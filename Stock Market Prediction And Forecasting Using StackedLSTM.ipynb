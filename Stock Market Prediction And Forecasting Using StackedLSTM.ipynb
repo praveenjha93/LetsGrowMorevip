{
 "cells": [
  {
   "cell_type": "markdown",
   "id": "396f876d",
   "metadata": {},
   "source": [
    "LGM VIP Data Science\n",
    "\n",
    "June 2022\n",
    "\n",
    "Beginner Level Task 02 - Stock Market Prediction And Forecasting Using StackedLSTM\n",
    "\n",
    "Name - Praveen jha"
   ]
  },
  {
   "cell_type": "code",
   "execution_count": 1,
   "id": "13969e65",
   "metadata": {},
   "outputs": [],
   "source": [
    "import numpy as np\n",
    "import pandas as pd\n",
    "import matplotlib.pyplot as plt\n",
    "import seaborn as sns"
   ]
  },
  {
   "cell_type": "code",
   "execution_count": 2,
   "id": "8fc813a8",
   "metadata": {},
   "outputs": [],
   "source": [
    "df = pd.read_csv(r'C:\\Users\\DELL\\Desktop\\NSE-Tata-Global-Beverages-Limited.csv')"
   ]
  },
  {
   "cell_type": "code",
   "execution_count": 3,
   "id": "1a531aeb",
   "metadata": {},
   "outputs": [
    {
     "data": {
      "text/html": [
       "<div>\n",
       "<style scoped>\n",
       "    .dataframe tbody tr th:only-of-type {\n",
       "        vertical-align: middle;\n",
       "    }\n",
       "\n",
       "    .dataframe tbody tr th {\n",
       "        vertical-align: top;\n",
       "    }\n",
       "\n",
       "    .dataframe thead th {\n",
       "        text-align: right;\n",
       "    }\n",
       "</style>\n",
       "<table border=\"1\" class=\"dataframe\">\n",
       "  <thead>\n",
       "    <tr style=\"text-align: right;\">\n",
       "      <th></th>\n",
       "      <th>Date</th>\n",
       "      <th>Open</th>\n",
       "      <th>High</th>\n",
       "      <th>Low</th>\n",
       "      <th>Last</th>\n",
       "      <th>Close</th>\n",
       "      <th>Total Trade Quantity</th>\n",
       "      <th>Turnover (Lacs)</th>\n",
       "    </tr>\n",
       "  </thead>\n",
       "  <tbody>\n",
       "    <tr>\n",
       "      <th>0</th>\n",
       "      <td>2018-10-08</td>\n",
       "      <td>208.00</td>\n",
       "      <td>222.25</td>\n",
       "      <td>206.85</td>\n",
       "      <td>216.00</td>\n",
       "      <td>215.15</td>\n",
       "      <td>4642146.0</td>\n",
       "      <td>10062.83</td>\n",
       "    </tr>\n",
       "    <tr>\n",
       "      <th>1</th>\n",
       "      <td>2018-10-05</td>\n",
       "      <td>217.00</td>\n",
       "      <td>218.60</td>\n",
       "      <td>205.90</td>\n",
       "      <td>210.25</td>\n",
       "      <td>209.20</td>\n",
       "      <td>3519515.0</td>\n",
       "      <td>7407.06</td>\n",
       "    </tr>\n",
       "    <tr>\n",
       "      <th>2</th>\n",
       "      <td>2018-10-04</td>\n",
       "      <td>223.50</td>\n",
       "      <td>227.80</td>\n",
       "      <td>216.15</td>\n",
       "      <td>217.25</td>\n",
       "      <td>218.20</td>\n",
       "      <td>1728786.0</td>\n",
       "      <td>3815.79</td>\n",
       "    </tr>\n",
       "    <tr>\n",
       "      <th>3</th>\n",
       "      <td>2018-10-03</td>\n",
       "      <td>230.00</td>\n",
       "      <td>237.50</td>\n",
       "      <td>225.75</td>\n",
       "      <td>226.45</td>\n",
       "      <td>227.60</td>\n",
       "      <td>1708590.0</td>\n",
       "      <td>3960.27</td>\n",
       "    </tr>\n",
       "    <tr>\n",
       "      <th>4</th>\n",
       "      <td>2018-10-01</td>\n",
       "      <td>234.55</td>\n",
       "      <td>234.60</td>\n",
       "      <td>221.05</td>\n",
       "      <td>230.30</td>\n",
       "      <td>230.90</td>\n",
       "      <td>1534749.0</td>\n",
       "      <td>3486.05</td>\n",
       "    </tr>\n",
       "  </tbody>\n",
       "</table>\n",
       "</div>"
      ],
      "text/plain": [
       "         Date    Open    High     Low    Last   Close  Total Trade Quantity  \\\n",
       "0  2018-10-08  208.00  222.25  206.85  216.00  215.15             4642146.0   \n",
       "1  2018-10-05  217.00  218.60  205.90  210.25  209.20             3519515.0   \n",
       "2  2018-10-04  223.50  227.80  216.15  217.25  218.20             1728786.0   \n",
       "3  2018-10-03  230.00  237.50  225.75  226.45  227.60             1708590.0   \n",
       "4  2018-10-01  234.55  234.60  221.05  230.30  230.90             1534749.0   \n",
       "\n",
       "   Turnover (Lacs)  \n",
       "0         10062.83  \n",
       "1          7407.06  \n",
       "2          3815.79  \n",
       "3          3960.27  \n",
       "4          3486.05  "
      ]
     },
     "execution_count": 3,
     "metadata": {},
     "output_type": "execute_result"
    }
   ],
   "source": [
    "df.head()"
   ]
  },
  {
   "cell_type": "code",
   "execution_count": 4,
   "id": "89e81b01",
   "metadata": {},
   "outputs": [
    {
     "data": {
      "text/html": [
       "<div>\n",
       "<style scoped>\n",
       "    .dataframe tbody tr th:only-of-type {\n",
       "        vertical-align: middle;\n",
       "    }\n",
       "\n",
       "    .dataframe tbody tr th {\n",
       "        vertical-align: top;\n",
       "    }\n",
       "\n",
       "    .dataframe thead th {\n",
       "        text-align: right;\n",
       "    }\n",
       "</style>\n",
       "<table border=\"1\" class=\"dataframe\">\n",
       "  <thead>\n",
       "    <tr style=\"text-align: right;\">\n",
       "      <th></th>\n",
       "      <th>Date</th>\n",
       "      <th>Open</th>\n",
       "      <th>High</th>\n",
       "      <th>Low</th>\n",
       "      <th>Last</th>\n",
       "      <th>Close</th>\n",
       "      <th>Total Trade Quantity</th>\n",
       "      <th>Turnover (Lacs)</th>\n",
       "    </tr>\n",
       "  </thead>\n",
       "  <tbody>\n",
       "    <tr>\n",
       "      <th>1230</th>\n",
       "      <td>2013-10-14</td>\n",
       "      <td>160.85</td>\n",
       "      <td>161.45</td>\n",
       "      <td>157.70</td>\n",
       "      <td>159.3</td>\n",
       "      <td>159.45</td>\n",
       "      <td>1281419.0</td>\n",
       "      <td>2039.09</td>\n",
       "    </tr>\n",
       "    <tr>\n",
       "      <th>1231</th>\n",
       "      <td>2013-10-11</td>\n",
       "      <td>161.15</td>\n",
       "      <td>163.45</td>\n",
       "      <td>159.00</td>\n",
       "      <td>159.8</td>\n",
       "      <td>160.05</td>\n",
       "      <td>1880046.0</td>\n",
       "      <td>3030.76</td>\n",
       "    </tr>\n",
       "    <tr>\n",
       "      <th>1232</th>\n",
       "      <td>2013-10-10</td>\n",
       "      <td>156.00</td>\n",
       "      <td>160.80</td>\n",
       "      <td>155.85</td>\n",
       "      <td>160.3</td>\n",
       "      <td>160.15</td>\n",
       "      <td>3124853.0</td>\n",
       "      <td>4978.80</td>\n",
       "    </tr>\n",
       "    <tr>\n",
       "      <th>1233</th>\n",
       "      <td>2013-10-09</td>\n",
       "      <td>155.70</td>\n",
       "      <td>158.20</td>\n",
       "      <td>154.15</td>\n",
       "      <td>155.3</td>\n",
       "      <td>155.55</td>\n",
       "      <td>2049580.0</td>\n",
       "      <td>3204.49</td>\n",
       "    </tr>\n",
       "    <tr>\n",
       "      <th>1234</th>\n",
       "      <td>2013-10-08</td>\n",
       "      <td>157.00</td>\n",
       "      <td>157.80</td>\n",
       "      <td>155.20</td>\n",
       "      <td>155.8</td>\n",
       "      <td>155.80</td>\n",
       "      <td>1720413.0</td>\n",
       "      <td>2688.94</td>\n",
       "    </tr>\n",
       "  </tbody>\n",
       "</table>\n",
       "</div>"
      ],
      "text/plain": [
       "            Date    Open    High     Low   Last   Close  Total Trade Quantity  \\\n",
       "1230  2013-10-14  160.85  161.45  157.70  159.3  159.45             1281419.0   \n",
       "1231  2013-10-11  161.15  163.45  159.00  159.8  160.05             1880046.0   \n",
       "1232  2013-10-10  156.00  160.80  155.85  160.3  160.15             3124853.0   \n",
       "1233  2013-10-09  155.70  158.20  154.15  155.3  155.55             2049580.0   \n",
       "1234  2013-10-08  157.00  157.80  155.20  155.8  155.80             1720413.0   \n",
       "\n",
       "      Turnover (Lacs)  \n",
       "1230          2039.09  \n",
       "1231          3030.76  \n",
       "1232          4978.80  \n",
       "1233          3204.49  \n",
       "1234          2688.94  "
      ]
     },
     "execution_count": 4,
     "metadata": {},
     "output_type": "execute_result"
    }
   ],
   "source": [
    "df.tail()"
   ]
  },
  {
   "cell_type": "code",
   "execution_count": 5,
   "id": "d53adb46",
   "metadata": {},
   "outputs": [
    {
     "data": {
      "text/plain": [
       "(1235, 8)"
      ]
     },
     "execution_count": 5,
     "metadata": {},
     "output_type": "execute_result"
    }
   ],
   "source": [
    "df.shape"
   ]
  },
  {
   "cell_type": "code",
   "execution_count": 6,
   "id": "41b7b6d1",
   "metadata": {},
   "outputs": [
    {
     "data": {
      "text/html": [
       "<div>\n",
       "<style scoped>\n",
       "    .dataframe tbody tr th:only-of-type {\n",
       "        vertical-align: middle;\n",
       "    }\n",
       "\n",
       "    .dataframe tbody tr th {\n",
       "        vertical-align: top;\n",
       "    }\n",
       "\n",
       "    .dataframe thead th {\n",
       "        text-align: right;\n",
       "    }\n",
       "</style>\n",
       "<table border=\"1\" class=\"dataframe\">\n",
       "  <thead>\n",
       "    <tr style=\"text-align: right;\">\n",
       "      <th></th>\n",
       "      <th>Open</th>\n",
       "      <th>High</th>\n",
       "      <th>Low</th>\n",
       "      <th>Last</th>\n",
       "      <th>Close</th>\n",
       "      <th>Total Trade Quantity</th>\n",
       "      <th>Turnover (Lacs)</th>\n",
       "    </tr>\n",
       "  </thead>\n",
       "  <tbody>\n",
       "    <tr>\n",
       "      <th>count</th>\n",
       "      <td>1235.000000</td>\n",
       "      <td>1235.000000</td>\n",
       "      <td>1235.000000</td>\n",
       "      <td>1235.000000</td>\n",
       "      <td>1235.000000</td>\n",
       "      <td>1.235000e+03</td>\n",
       "      <td>1235.000000</td>\n",
       "    </tr>\n",
       "    <tr>\n",
       "      <th>mean</th>\n",
       "      <td>168.954858</td>\n",
       "      <td>171.429069</td>\n",
       "      <td>166.402308</td>\n",
       "      <td>168.736356</td>\n",
       "      <td>168.731053</td>\n",
       "      <td>2.604151e+06</td>\n",
       "      <td>4843.166502</td>\n",
       "    </tr>\n",
       "    <tr>\n",
       "      <th>std</th>\n",
       "      <td>51.499145</td>\n",
       "      <td>52.436761</td>\n",
       "      <td>50.542919</td>\n",
       "      <td>51.587384</td>\n",
       "      <td>51.544928</td>\n",
       "      <td>2.277028e+06</td>\n",
       "      <td>5348.919832</td>\n",
       "    </tr>\n",
       "    <tr>\n",
       "      <th>min</th>\n",
       "      <td>103.000000</td>\n",
       "      <td>104.600000</td>\n",
       "      <td>100.000000</td>\n",
       "      <td>102.600000</td>\n",
       "      <td>102.650000</td>\n",
       "      <td>1.001800e+05</td>\n",
       "      <td>128.040000</td>\n",
       "    </tr>\n",
       "    <tr>\n",
       "      <th>25%</th>\n",
       "      <td>137.550000</td>\n",
       "      <td>138.925000</td>\n",
       "      <td>135.250000</td>\n",
       "      <td>137.175000</td>\n",
       "      <td>137.225000</td>\n",
       "      <td>1.284482e+06</td>\n",
       "      <td>1801.035000</td>\n",
       "    </tr>\n",
       "    <tr>\n",
       "      <th>50%</th>\n",
       "      <td>151.500000</td>\n",
       "      <td>153.250000</td>\n",
       "      <td>149.500000</td>\n",
       "      <td>151.200000</td>\n",
       "      <td>151.100000</td>\n",
       "      <td>1.964885e+06</td>\n",
       "      <td>3068.510000</td>\n",
       "    </tr>\n",
       "    <tr>\n",
       "      <th>75%</th>\n",
       "      <td>169.000000</td>\n",
       "      <td>172.325000</td>\n",
       "      <td>166.700000</td>\n",
       "      <td>169.100000</td>\n",
       "      <td>169.500000</td>\n",
       "      <td>3.095788e+06</td>\n",
       "      <td>5852.600000</td>\n",
       "    </tr>\n",
       "    <tr>\n",
       "      <th>max</th>\n",
       "      <td>327.700000</td>\n",
       "      <td>328.750000</td>\n",
       "      <td>321.650000</td>\n",
       "      <td>325.950000</td>\n",
       "      <td>325.750000</td>\n",
       "      <td>2.919102e+07</td>\n",
       "      <td>55755.080000</td>\n",
       "    </tr>\n",
       "  </tbody>\n",
       "</table>\n",
       "</div>"
      ],
      "text/plain": [
       "              Open         High          Low         Last        Close  \\\n",
       "count  1235.000000  1235.000000  1235.000000  1235.000000  1235.000000   \n",
       "mean    168.954858   171.429069   166.402308   168.736356   168.731053   \n",
       "std      51.499145    52.436761    50.542919    51.587384    51.544928   \n",
       "min     103.000000   104.600000   100.000000   102.600000   102.650000   \n",
       "25%     137.550000   138.925000   135.250000   137.175000   137.225000   \n",
       "50%     151.500000   153.250000   149.500000   151.200000   151.100000   \n",
       "75%     169.000000   172.325000   166.700000   169.100000   169.500000   \n",
       "max     327.700000   328.750000   321.650000   325.950000   325.750000   \n",
       "\n",
       "       Total Trade Quantity  Turnover (Lacs)  \n",
       "count          1.235000e+03      1235.000000  \n",
       "mean           2.604151e+06      4843.166502  \n",
       "std            2.277028e+06      5348.919832  \n",
       "min            1.001800e+05       128.040000  \n",
       "25%            1.284482e+06      1801.035000  \n",
       "50%            1.964885e+06      3068.510000  \n",
       "75%            3.095788e+06      5852.600000  \n",
       "max            2.919102e+07     55755.080000  "
      ]
     },
     "execution_count": 6,
     "metadata": {},
     "output_type": "execute_result"
    }
   ],
   "source": [
    "df.describe()"
   ]
  },
  {
   "cell_type": "code",
   "execution_count": 7,
   "id": "74c7260e",
   "metadata": {},
   "outputs": [
    {
     "name": "stdout",
     "output_type": "stream",
     "text": [
      "<class 'pandas.core.frame.DataFrame'>\n",
      "RangeIndex: 1235 entries, 0 to 1234\n",
      "Data columns (total 8 columns):\n",
      " #   Column                Non-Null Count  Dtype  \n",
      "---  ------                --------------  -----  \n",
      " 0   Date                  1235 non-null   object \n",
      " 1   Open                  1235 non-null   float64\n",
      " 2   High                  1235 non-null   float64\n",
      " 3   Low                   1235 non-null   float64\n",
      " 4   Last                  1235 non-null   float64\n",
      " 5   Close                 1235 non-null   float64\n",
      " 6   Total Trade Quantity  1235 non-null   float64\n",
      " 7   Turnover (Lacs)       1235 non-null   float64\n",
      "dtypes: float64(7), object(1)\n",
      "memory usage: 77.3+ KB\n"
     ]
    }
   ],
   "source": [
    "df.info()"
   ]
  },
  {
   "cell_type": "code",
   "execution_count": 8,
   "id": "28be0573",
   "metadata": {},
   "outputs": [
    {
     "data": {
      "text/plain": [
       "Date                    0\n",
       "Open                    0\n",
       "High                    0\n",
       "Low                     0\n",
       "Last                    0\n",
       "Close                   0\n",
       "Total Trade Quantity    0\n",
       "Turnover (Lacs)         0\n",
       "dtype: int64"
      ]
     },
     "execution_count": 8,
     "metadata": {},
     "output_type": "execute_result"
    }
   ],
   "source": [
    "df.isnull().sum()"
   ]
  },
  {
   "cell_type": "code",
   "execution_count": 9,
   "id": "490a5d5a",
   "metadata": {},
   "outputs": [],
   "source": [
    "df1 = df.reset_index()['Close']"
   ]
  },
  {
   "cell_type": "code",
   "execution_count": 10,
   "id": "2dbcdd49",
   "metadata": {},
   "outputs": [
    {
     "data": {
      "text/plain": [
       "0       215.15\n",
       "1       209.20\n",
       "2       218.20\n",
       "3       227.60\n",
       "4       230.90\n",
       "         ...  \n",
       "1230    159.45\n",
       "1231    160.05\n",
       "1232    160.15\n",
       "1233    155.55\n",
       "1234    155.80\n",
       "Name: Close, Length: 1235, dtype: float64"
      ]
     },
     "execution_count": 10,
     "metadata": {},
     "output_type": "execute_result"
    }
   ],
   "source": [
    "df1"
   ]
  },
  {
   "cell_type": "code",
   "execution_count": 11,
   "id": "4827ce55",
   "metadata": {},
   "outputs": [
    {
     "data": {
      "text/plain": [
       "Text(0.5, 1.0, 'Stacked index view')"
      ]
     },
     "execution_count": 11,
     "metadata": {},
     "output_type": "execute_result"
    },
    {
     "data": {
      "image/png": "[encoded data removed]",
      "text/plain": [
       "<Figure size 432x288 with 1 Axes>"
      ]
     },
     "metadata": {
      "needs_background": "light"
     },
     "output_type": "display_data"
    }
   ],
   "source": [
    "plt.plot(df1)\n",
    "plt.title('Stacked index view')"
   ]
  },
  {
   "cell_type": "code",
   "execution_count": 12,
   "id": "6eedf052",
   "metadata": {},
   "outputs": [],
   "source": [
    "from sklearn.preprocessing import MinMaxScaler\n",
    "scaler =  MinMaxScaler(feature_range=(0,1))\n",
    "df1 = scaler.fit_transform(np.array(df1).reshape(-1,1))"
   ]
  },
  {
   "cell_type": "code",
   "execution_count": 13,
   "id": "60af030c",
   "metadata": {},
   "outputs": [
    {
     "data": {
      "text/plain": [
       "array([[0.50425818],\n",
       "       [0.47758853],\n",
       "       [0.51792918],\n",
       "       ...,\n",
       "       [0.25773196],\n",
       "       [0.2371134 ],\n",
       "       [0.23823398]])"
      ]
     },
     "execution_count": 13,
     "metadata": {},
     "output_type": "execute_result"
    }
   ],
   "source": [
    "df1"
   ]
  },
  {
   "cell_type": "code",
   "execution_count": 14,
   "id": "1ba6f578",
   "metadata": {},
   "outputs": [],
   "source": [
    "training_size=int(len(df1)*0.65)        # split data train & test\n",
    "test_size=len(df1)-training_size                                   \n",
    "train_data,test_data=df1[0:training_size,:],df1[training_size:len(df1),:1]"
   ]
  },
  {
   "cell_type": "code",
   "execution_count": 15,
   "id": "12cb9a6b",
   "metadata": {},
   "outputs": [
    {
     "data": {
      "text/plain": [
       "802"
      ]
     },
     "execution_count": 15,
     "metadata": {},
     "output_type": "execute_result"
    }
   ],
   "source": [
    "training_size"
   ]
  },
  {
   "cell_type": "code",
   "execution_count": 16,
   "id": "1abe5ee4",
   "metadata": {},
   "outputs": [
    {
     "data": {
      "text/plain": [
       "433"
      ]
     },
     "execution_count": 16,
     "metadata": {},
     "output_type": "execute_result"
    }
   ],
   "source": [
    "test_size"
   ]
  },
  {
   "cell_type": "code",
   "execution_count": 17,
   "id": "bc852a42",
   "metadata": {},
   "outputs": [
    {
     "data": {
      "text/plain": [
       "array([[0.50425818],\n",
       "       [0.47758853],\n",
       "       [0.51792918],\n",
       "       [0.56006275],\n",
       "       [0.57485433]])"
      ]
     },
     "execution_count": 17,
     "metadata": {},
     "output_type": "execute_result"
    }
   ],
   "source": [
    "train_data[0:5]"
   ]
  },
  {
   "cell_type": "code",
   "execution_count": 18,
   "id": "0aa51eb6",
   "metadata": {},
   "outputs": [],
   "source": [
    "# convert an array of values into a Dataset matrix\n",
    "import numpy\n",
    "def create_dataset(dataset, time_step=1):\n",
    "    dataX, dataY = [], []\n",
    "    for i in range(len(dataset)-time_step-1):\n",
    "        a = dataset[i:(i+time_step), 0]   ###i=0, dataX:0,1,2,3-----99   dataY:100 \n",
    "        dataX.append(a)\n",
    "        dataY.append(dataset[i + time_step, 0])\n",
    "    return numpy.array(dataX), numpy.array(dataY)"
   ]
  },
  {
   "cell_type": "code",
   "execution_count": 19,
   "id": "521a664e",
   "metadata": {},
   "outputs": [],
   "source": [
    "time_step = 100\n",
    "X_train, y_train = create_dataset(train_data, time_step)\n",
    "X_test, ytest = create_dataset(test_data, time_step)"
   ]
  },
  {
   "cell_type": "code",
   "execution_count": 20,
   "id": "22cf43e1",
   "metadata": {},
   "outputs": [
    {
     "name": "stdout",
     "output_type": "stream",
     "text": [
      "(701, 100)\n",
      "(701,)\n"
     ]
    },
    {
     "data": {
      "text/plain": [
       "(None, None)"
      ]
     },
     "execution_count": 20,
     "metadata": {},
     "output_type": "execute_result"
    }
   ],
   "source": [
    "print(X_train.shape), print(y_train.shape)"
   ]
  },
  {
   "cell_type": "code",
   "execution_count": 21,
   "id": "f4d281dd",
   "metadata": {},
   "outputs": [
    {
     "name": "stdout",
     "output_type": "stream",
     "text": [
      "(332, 100)\n",
      "(332,)\n"
     ]
    },
    {
     "data": {
      "text/plain": [
       "(None, None)"
      ]
     },
     "execution_count": 21,
     "metadata": {},
     "output_type": "execute_result"
    }
   ],
   "source": [
    "print(X_test.shape), print(ytest.shape)"
   ]
  },
  {
   "cell_type": "code",
   "execution_count": 22,
   "id": "0a6ea75a",
   "metadata": {},
   "outputs": [],
   "source": [
    "# Reshape input to be [samples, time steps, features] which is required for LSTM\n",
    "X_train =X_train.reshape(X_train.shape[0],X_train.shape[1] , 1)\n",
    "X_test = X_test.reshape(X_test.shape[0],X_test.shape[1] , 1)"
   ]
  },
  {
   "cell_type": "code",
   "execution_count": 23,
   "id": "f0a78e96",
   "metadata": {},
   "outputs": [
    {
     "name": "stdout",
     "output_type": "stream",
     "text": [
      "Requirement already satisfied: tensorflow in c:\\users\\dell\\anaconda3\\lib\\site-packages (2.9.1)\n",
      "Requirement already satisfied: absl-py>=1.0.0 in c:\\users\\dell\\anaconda3\\lib\\site-packages (from tensorflow) (1.1.0)\n",
      "Requirement already satisfied: h5py>=2.9.0 in c:\\users\\dell\\anaconda3\\lib\\site-packages (from tensorflow) (3.6.0)\n",
      "Requirement already satisfied: opt-einsum>=2.3.2 in c:\\users\\dell\\anaconda3\\lib\\site-packages (from tensorflow) (3.3.0)\n",
      "Requirement already satisfied: astunparse>=1.6.0 in c:\\users\\dell\\anaconda3\\lib\\site-packages (from tensorflow) (1.6.3)\n",
      "Requirement already satisfied: keras-preprocessing>=1.1.1 in c:\\users\\dell\\anaconda3\\lib\\site-packages (from tensorflow) (1.1.2)\n",
      "Requirement already satisfied: tensorflow-estimator<2.10.0,>=2.9.0rc0 in c:\\users\\dell\\anaconda3\\lib\\site-packages (from tensorflow) (2.9.0)\n",
      "Requirement already satisfied: numpy>=1.20 in c:\\users\\dell\\anaconda3\\lib\\site-packages (from tensorflow) (1.21.5)\n",
      "Requirement already satisfied: libclang>=13.0.0 in c:\\users\\dell\\anaconda3\\lib\\site-packages (from tensorflow) (14.0.1)\n",
      "Requirement already satisfied: setuptools in c:\\users\\dell\\anaconda3\\lib\\site-packages (from tensorflow) (61.2.0)\n",
      "Requirement already satisfied: typing-extensions>=3.6.6 in c:\\users\\dell\\appdata\\roaming\\python\\python39\\site-packages (from tensorflow) (3.10.0.0)\n",
      "Requirement already satisfied: protobuf<3.20,>=3.9.2 in c:\\users\\dell\\anaconda3\\lib\\site-packages (from tensorflow) (3.19.1)\n",
      "Requirement already satisfied: keras<2.10.0,>=2.9.0rc0 in c:\\users\\dell\\anaconda3\\lib\\site-packages (from tensorflow) (2.9.0)\n",
      "Requirement already satisfied: gast<=0.4.0,>=0.2.1 in c:\\users\\dell\\anaconda3\\lib\\site-packages (from tensorflow) (0.4.0)\n",
      "Requirement already satisfied: wrapt>=1.11.0 in c:\\users\\dell\\anaconda3\\lib\\site-packages (from tensorflow) (1.12.1)\n",
      "Requirement already satisfied: flatbuffers<2,>=1.12 in c:\\users\\dell\\anaconda3\\lib\\site-packages (from tensorflow) (1.12)\n",
      "Requirement already satisfied: packaging in c:\\users\\dell\\anaconda3\\lib\\site-packages (from tensorflow) (21.3)\n",
      "Requirement already satisfied: grpcio<2.0,>=1.24.3 in c:\\users\\dell\\anaconda3\\lib\\site-packages (from tensorflow) (1.42.0)\n",
      "Requirement already satisfied: tensorflow-io-gcs-filesystem>=0.23.1 in c:\\users\\dell\\anaconda3\\lib\\site-packages (from tensorflow) (0.26.0)\n",
      "Requirement already satisfied: tensorboard<2.10,>=2.9 in c:\\users\\dell\\anaconda3\\lib\\site-packages (from tensorflow) (2.9.0)\n",
      "Requirement already satisfied: google-pasta>=0.1.1 in c:\\users\\dell\\anaconda3\\lib\\site-packages (from tensorflow) (0.2.0)\n",
      "Requirement already satisfied: termcolor>=1.1.0 in c:\\users\\dell\\anaconda3\\lib\\site-packages (from tensorflow) (1.1.0)\n",
      "Requirement already satisfied: six>=1.12.0 in c:\\users\\dell\\anaconda3\\lib\\site-packages (from tensorflow) (1.16.0)\n",
      "Requirement already satisfied: wheel<1.0,>=0.23.0 in c:\\users\\dell\\anaconda3\\lib\\site-packages (from astunparse>=1.6.0->tensorflow) (0.37.1)\n",
      "Requirement already satisfied: requests<3,>=2.21.0 in c:\\users\\dell\\appdata\\roaming\\python\\python39\\site-packages (from tensorboard<2.10,>=2.9->tensorflow) (2.25.1)\n",
      "Requirement already satisfied: google-auth<3,>=1.6.3 in c:\\users\\dell\\anaconda3\\lib\\site-packages (from tensorboard<2.10,>=2.9->tensorflow) (1.33.0)\n",
      "Requirement already satisfied: tensorboard-plugin-wit>=1.6.0 in c:\\users\\dell\\anaconda3\\lib\\site-packages (from tensorboard<2.10,>=2.9->tensorflow) (1.8.1)\n",
      "Requirement already satisfied: tensorboard-data-server<0.7.0,>=0.6.0 in c:\\users\\dell\\anaconda3\\lib\\site-packages (from tensorboard<2.10,>=2.9->tensorflow) (0.6.1)\n",
      "Requirement already satisfied: google-auth-oauthlib<0.5,>=0.4.1 in c:\\users\\dell\\anaconda3\\lib\\site-packages (from tensorboard<2.10,>=2.9->tensorflow) (0.4.6)\n",
      "Requirement already satisfied: werkzeug>=1.0.1 in c:\\users\\dell\\anaconda3\\lib\\site-packages (from tensorboard<2.10,>=2.9->tensorflow) (2.0.3)\n",
      "Requirement already satisfied: markdown>=2.6.8 in c:\\users\\dell\\anaconda3\\lib\\site-packages (from tensorboard<2.10,>=2.9->tensorflow) (3.3.4)\n",
      "Requirement already satisfied: rsa<5,>=3.1.4 in c:\\users\\dell\\anaconda3\\lib\\site-packages (from google-auth<3,>=1.6.3->tensorboard<2.10,>=2.9->tensorflow) (4.7.2)\n",
      "Requirement already satisfied: pyasn1-modules>=0.2.1 in c:\\users\\dell\\anaconda3\\lib\\site-packages (from google-auth<3,>=1.6.3->tensorboard<2.10,>=2.9->tensorflow) (0.2.8)\n",
      "Requirement already satisfied: cachetools<5.0,>=2.0.0 in c:\\users\\dell\\anaconda3\\lib\\site-packages (from google-auth<3,>=1.6.3->tensorboard<2.10,>=2.9->tensorflow) (4.2.2)\n",
      "Requirement already satisfied: requests-oauthlib>=0.7.0 in c:\\users\\dell\\anaconda3\\lib\\site-packages (from google-auth-oauthlib<0.5,>=0.4.1->tensorboard<2.10,>=2.9->tensorflow) (1.3.1)\n",
      "Requirement already satisfied: pyasn1<0.5.0,>=0.4.6 in c:\\users\\dell\\anaconda3\\lib\\site-packages (from pyasn1-modules>=0.2.1->google-auth<3,>=1.6.3->tensorboard<2.10,>=2.9->tensorflow) (0.4.8)\n",
      "Requirement already satisfied: certifi>=2017.4.17 in c:\\users\\dell\\anaconda3\\lib\\site-packages (from requests<3,>=2.21.0->tensorboard<2.10,>=2.9->tensorflow) (2021.10.8)\n",
      "Requirement already satisfied: idna<3,>=2.5 in c:\\users\\dell\\appdata\\roaming\\python\\python39\\site-packages (from requests<3,>=2.21.0->tensorboard<2.10,>=2.9->tensorflow) (2.10)\n",
      "Requirement already satisfied: chardet<5,>=3.0.2 in c:\\users\\dell\\anaconda3\\lib\\site-packages (from requests<3,>=2.21.0->tensorboard<2.10,>=2.9->tensorflow) (4.0.0)\n",
      "Requirement already satisfied: urllib3<1.27,>=1.21.1 in c:\\users\\dell\\anaconda3\\lib\\site-packages (from requests<3,>=2.21.0->tensorboard<2.10,>=2.9->tensorflow) (1.26.9)\n",
      "Requirement already satisfied: oauthlib>=3.0.0 in c:\\users\\dell\\anaconda3\\lib\\site-packages (from requests-oauthlib>=0.7.0->google-auth-oauthlib<0.5,>=0.4.1->tensorboard<2.10,>=2.9->tensorflow) (3.2.0)\n",
      "Requirement already satisfied: pyparsing!=3.0.5,>=2.0.2 in c:\\users\\dell\\anaconda3\\lib\\site-packages (from packaging->tensorflow) (3.0.4)\n"
     ]
    }
   ],
   "source": [
    "!pip install tensorflow"
   ]
  },
  {
   "cell_type": "code",
   "execution_count": 24,
   "id": "f8f373d4",
   "metadata": {},
   "outputs": [],
   "source": [
    "### Create the Stacked LSTM model\n",
    "from tensorflow.keras.models import Sequential\n",
    "from tensorflow.keras.layers import Dense\n",
    "from tensorflow.keras.layers import LSTM"
   ]
  },
  {
   "cell_type": "code",
   "execution_count": 25,
   "id": "a7d34237",
   "metadata": {},
   "outputs": [],
   "source": [
    "model=Sequential()\n",
    "model.add(LSTM(50,return_sequences=True,input_shape=(100,1)))\n",
    "model.add(LSTM(50,return_sequences=True))\n",
    "model.add(LSTM(50))\n",
    "model.add(Dense(1))\n",
    "model.compile(loss='mean_squared_error',optimizer='adam')"
   ]
  },
  {
   "cell_type": "code",
   "execution_count": 26,
   "id": "bfe92a68",
   "metadata": {},
   "outputs": [
    {
     "name": "stdout",
     "output_type": "stream",
     "text": [
      "Model: \"sequential\"\n",
      "_________________________________________________________________\n",
      " Layer (type)                Output Shape              Param #   \n",
      "=================================================================\n",
      " lstm (LSTM)                 (None, 100, 50)           10400     \n",
      "                                                                 \n",
      " lstm_1 (LSTM)               (None, 100, 50)           20200     \n",
      "                                                                 \n",
      " lstm_2 (LSTM)               (None, 50)                20200     \n",
      "                                                                 \n",
      " dense (Dense)               (None, 1)                 51        \n",
      "                                                                 \n",
      "=================================================================\n",
      "Total params: 50,851\n",
      "Trainable params: 50,851\n",
      "Non-trainable params: 0\n",
      "_________________________________________________________________\n"
     ]
    }
   ],
   "source": [
    "model.summary()"
   ]
  },
  {
   "cell_type": "code",
   "execution_count": 27,
   "id": "03973c59",
   "metadata": {},
   "outputs": [
    {
     "name": "stdout",
     "output_type": "stream",
     "text": [
      "Epoch 1/100\n",
      "11/11 [==============================] - 22s 775ms/step - loss: 0.0643 - val_loss: 0.0070\n",
      "Epoch 2/100\n",
      "11/11 [==============================] - 3s 321ms/step - loss: 0.0089 - val_loss: 0.0013\n",
      "Epoch 3/100\n",
      "11/11 [==============================] - 4s 331ms/step - loss: 0.0043 - val_loss: 0.0040\n",
      "Epoch 4/100\n",
      "11/11 [==============================] - 3s 311ms/step - loss: 0.0035 - val_loss: 0.0012\n",
      "Epoch 5/100\n",
      "11/11 [==============================] - 4s 361ms/step - loss: 0.0029 - val_loss: 9.8420e-04\n",
      "Epoch 6/100\n",
      "11/11 [==============================] - 4s 348ms/step - loss: 0.0027 - val_loss: 0.0013\n",
      "Epoch 7/100\n",
      "11/11 [==============================] - 4s 342ms/step - loss: 0.0025 - val_loss: 0.0013\n",
      "Epoch 8/100\n",
      "11/11 [==============================] - 4s 362ms/step - loss: 0.0024 - val_loss: 0.0011\n",
      "Epoch 9/100\n",
      "11/11 [==============================] - 4s 403ms/step - loss: 0.0023 - val_loss: 0.0010\n",
      "Epoch 10/100\n",
      "11/11 [==============================] - 3s 318ms/step - loss: 0.0022 - val_loss: 0.0011\n",
      "Epoch 11/100\n",
      "11/11 [==============================] - 4s 339ms/step - loss: 0.0021 - val_loss: 8.6619e-04\n",
      "Epoch 12/100\n",
      "11/11 [==============================] - 4s 329ms/step - loss: 0.0020 - val_loss: 9.2594e-04\n",
      "Epoch 13/100\n",
      "11/11 [==============================] - 4s 347ms/step - loss: 0.0019 - val_loss: 9.0152e-04\n",
      "Epoch 14/100\n",
      "11/11 [==============================] - 4s 333ms/step - loss: 0.0019 - val_loss: 7.9409e-04\n",
      "Epoch 15/100\n",
      "11/11 [==============================] - 4s 340ms/step - loss: 0.0020 - val_loss: 7.8910e-04\n",
      "Epoch 16/100\n",
      "11/11 [==============================] - 4s 333ms/step - loss: 0.0019 - val_loss: 9.0391e-04\n",
      "Epoch 17/100\n",
      "11/11 [==============================] - 4s 327ms/step - loss: 0.0017 - val_loss: 8.7537e-04\n",
      "Epoch 18/100\n",
      "11/11 [==============================] - 4s 328ms/step - loss: 0.0017 - val_loss: 7.5698e-04\n",
      "Epoch 19/100\n",
      "11/11 [==============================] - 4s 339ms/step - loss: 0.0021 - val_loss: 7.7460e-04\n",
      "Epoch 20/100\n",
      "11/11 [==============================] - 4s 326ms/step - loss: 0.0018 - val_loss: 7.4709e-04\n",
      "Epoch 21/100\n",
      "11/11 [==============================] - 4s 328ms/step - loss: 0.0018 - val_loss: 7.9327e-04\n",
      "Epoch 22/100\n",
      "11/11 [==============================] - 3s 320ms/step - loss: 0.0016 - val_loss: 7.7665e-04\n",
      "Epoch 23/100\n",
      "11/11 [==============================] - 3s 316ms/step - loss: 0.0016 - val_loss: 7.0253e-04\n",
      "Epoch 24/100\n",
      "11/11 [==============================] - 3s 316ms/step - loss: 0.0015 - val_loss: 8.3848e-04\n",
      "Epoch 25/100\n",
      "11/11 [==============================] - 3s 315ms/step - loss: 0.0014 - val_loss: 7.3589e-04\n",
      "Epoch 26/100\n",
      "11/11 [==============================] - 3s 315ms/step - loss: 0.0014 - val_loss: 6.8920e-04\n",
      "Epoch 27/100\n",
      "11/11 [==============================] - 3s 320ms/step - loss: 0.0014 - val_loss: 6.6264e-04\n",
      "Epoch 28/100\n",
      "11/11 [==============================] - 3s 315ms/step - loss: 0.0014 - val_loss: 6.6575e-04\n",
      "Epoch 29/100\n",
      "11/11 [==============================] - 3s 314ms/step - loss: 0.0014 - val_loss: 0.0010\n",
      "Epoch 30/100\n",
      "11/11 [==============================] - 3s 316ms/step - loss: 0.0013 - val_loss: 8.1704e-04\n",
      "Epoch 31/100\n",
      "11/11 [==============================] - 3s 315ms/step - loss: 0.0014 - val_loss: 7.7633e-04\n",
      "Epoch 32/100\n",
      "11/11 [==============================] - 3s 315ms/step - loss: 0.0013 - val_loss: 6.2552e-04\n",
      "Epoch 33/100\n",
      "11/11 [==============================] - 3s 314ms/step - loss: 0.0012 - val_loss: 6.3289e-04\n",
      "Epoch 34/100\n",
      "11/11 [==============================] - 3s 316ms/step - loss: 0.0012 - val_loss: 6.3944e-04\n",
      "Epoch 35/100\n",
      "11/11 [==============================] - 3s 320ms/step - loss: 0.0011 - val_loss: 7.5833e-04\n",
      "Epoch 36/100\n",
      "11/11 [==============================] - 3s 317ms/step - loss: 0.0012 - val_loss: 9.3057e-04\n",
      "Epoch 37/100\n",
      "11/11 [==============================] - 3s 318ms/step - loss: 0.0012 - val_loss: 6.0035e-04\n",
      "Epoch 38/100\n",
      "11/11 [==============================] - 3s 315ms/step - loss: 0.0012 - val_loss: 5.8533e-04\n",
      "Epoch 39/100\n",
      "11/11 [==============================] - 3s 319ms/step - loss: 0.0012 - val_loss: 8.9633e-04\n",
      "Epoch 40/100\n",
      "11/11 [==============================] - 3s 315ms/step - loss: 0.0012 - val_loss: 7.8835e-04\n",
      "Epoch 41/100\n",
      "11/11 [==============================] - 3s 318ms/step - loss: 0.0012 - val_loss: 5.6075e-04\n",
      "Epoch 42/100\n",
      "11/11 [==============================] - 3s 317ms/step - loss: 0.0010 - val_loss: 6.3716e-04\n",
      "Epoch 43/100\n",
      "11/11 [==============================] - 3s 317ms/step - loss: 0.0010 - val_loss: 6.6773e-04\n",
      "Epoch 44/100\n",
      "11/11 [==============================] - 3s 322ms/step - loss: 9.8384e-04 - val_loss: 6.5025e-04\n",
      "Epoch 45/100\n",
      "11/11 [==============================] - 3s 320ms/step - loss: 9.9146e-04 - val_loss: 5.4370e-04\n",
      "Epoch 46/100\n",
      "11/11 [==============================] - 3s 321ms/step - loss: 9.7993e-04 - val_loss: 5.8327e-04\n",
      "Epoch 47/100\n",
      "11/11 [==============================] - 3s 316ms/step - loss: 9.8153e-04 - val_loss: 6.7063e-04\n",
      "Epoch 48/100\n",
      "11/11 [==============================] - 3s 320ms/step - loss: 9.9894e-04 - val_loss: 5.3155e-04\n",
      "Epoch 49/100\n",
      "11/11 [==============================] - 3s 316ms/step - loss: 0.0010 - val_loss: 6.6523e-04\n",
      "Epoch 50/100\n",
      "11/11 [==============================] - 3s 318ms/step - loss: 9.2030e-04 - val_loss: 5.6343e-04\n",
      "Epoch 51/100\n",
      "11/11 [==============================] - 3s 316ms/step - loss: 8.5216e-04 - val_loss: 6.8593e-04\n",
      "Epoch 52/100\n",
      "11/11 [==============================] - 3s 319ms/step - loss: 9.3818e-04 - val_loss: 5.0805e-04\n",
      "Epoch 53/100\n",
      "11/11 [==============================] - 3s 315ms/step - loss: 8.7416e-04 - val_loss: 5.4120e-04\n",
      "Epoch 54/100\n",
      "11/11 [==============================] - 4s 327ms/step - loss: 0.0010 - val_loss: 7.8012e-04\n",
      "Epoch 55/100\n",
      "11/11 [==============================] - 3s 322ms/step - loss: 0.0010 - val_loss: 4.9890e-04\n",
      "Epoch 56/100\n",
      "11/11 [==============================] - 3s 317ms/step - loss: 8.8183e-04 - val_loss: 4.8980e-04\n",
      "Epoch 57/100\n",
      "11/11 [==============================] - 3s 316ms/step - loss: 7.8782e-04 - val_loss: 5.3747e-04\n",
      "Epoch 58/100\n",
      "11/11 [==============================] - 3s 320ms/step - loss: 7.6843e-04 - val_loss: 4.8811e-04\n",
      "Epoch 59/100\n",
      "11/11 [==============================] - 3s 316ms/step - loss: 8.1746e-04 - val_loss: 6.7479e-04\n",
      "Epoch 60/100\n",
      "11/11 [==============================] - 3s 316ms/step - loss: 8.2108e-04 - val_loss: 4.5899e-04\n",
      "Epoch 61/100\n",
      "11/11 [==============================] - 3s 317ms/step - loss: 7.7647e-04 - val_loss: 4.4782e-04\n",
      "Epoch 62/100\n",
      "11/11 [==============================] - 3s 316ms/step - loss: 7.6212e-04 - val_loss: 5.7970e-04\n",
      "Epoch 63/100\n",
      "11/11 [==============================] - 3s 315ms/step - loss: 7.1750e-04 - val_loss: 5.0666e-04\n",
      "Epoch 64/100\n",
      "11/11 [==============================] - 3s 316ms/step - loss: 7.3585e-04 - val_loss: 4.4308e-04\n",
      "Epoch 65/100\n",
      "11/11 [==============================] - 3s 317ms/step - loss: 8.2546e-04 - val_loss: 5.3261e-04\n",
      "Epoch 66/100\n",
      "11/11 [==============================] - 3s 318ms/step - loss: 0.0010 - val_loss: 4.9913e-04\n",
      "Epoch 67/100\n",
      "11/11 [==============================] - 3s 316ms/step - loss: 7.3936e-04 - val_loss: 4.2169e-04\n",
      "Epoch 68/100\n",
      "11/11 [==============================] - 3s 315ms/step - loss: 7.5465e-04 - val_loss: 6.0381e-04\n",
      "Epoch 69/100\n",
      "11/11 [==============================] - 3s 318ms/step - loss: 7.2894e-04 - val_loss: 4.8886e-04\n",
      "Epoch 70/100\n",
      "11/11 [==============================] - 3s 315ms/step - loss: 6.4271e-04 - val_loss: 4.0479e-04\n",
      "Epoch 71/100\n",
      "11/11 [==============================] - 3s 315ms/step - loss: 6.3923e-04 - val_loss: 5.0882e-04\n",
      "Epoch 72/100\n",
      "11/11 [==============================] - 3s 322ms/step - loss: 6.1389e-04 - val_loss: 4.7041e-04\n",
      "Epoch 73/100\n",
      "11/11 [==============================] - 3s 317ms/step - loss: 6.5545e-04 - val_loss: 3.8519e-04\n",
      "Epoch 74/100\n",
      "11/11 [==============================] - 3s 320ms/step - loss: 6.1904e-04 - val_loss: 3.9797e-04\n",
      "Epoch 75/100\n",
      "11/11 [==============================] - 3s 317ms/step - loss: 5.8050e-04 - val_loss: 4.1245e-04\n",
      "Epoch 76/100\n",
      "11/11 [==============================] - 3s 317ms/step - loss: 5.6238e-04 - val_loss: 3.7455e-04\n",
      "Epoch 77/100\n",
      "11/11 [==============================] - 3s 324ms/step - loss: 5.9745e-04 - val_loss: 3.9913e-04\n",
      "Epoch 78/100\n",
      "11/11 [==============================] - 3s 320ms/step - loss: 5.4126e-04 - val_loss: 5.7912e-04\n",
      "Epoch 79/100\n",
      "11/11 [==============================] - 3s 321ms/step - loss: 5.3601e-04 - val_loss: 3.5450e-04\n",
      "Epoch 80/100\n",
      "11/11 [==============================] - 3s 318ms/step - loss: 5.2712e-04 - val_loss: 3.7032e-04\n",
      "Epoch 81/100\n",
      "11/11 [==============================] - 3s 317ms/step - loss: 5.0141e-04 - val_loss: 3.4614e-04\n",
      "Epoch 82/100\n",
      "11/11 [==============================] - 3s 316ms/step - loss: 7.0479e-04 - val_loss: 3.9217e-04\n",
      "Epoch 83/100\n",
      "11/11 [==============================] - 3s 319ms/step - loss: 6.8712e-04 - val_loss: 6.0024e-04\n",
      "Epoch 84/100\n",
      "11/11 [==============================] - 3s 316ms/step - loss: 5.6025e-04 - val_loss: 3.5947e-04\n",
      "Epoch 85/100\n",
      "11/11 [==============================] - 3s 318ms/step - loss: 5.0443e-04 - val_loss: 3.7043e-04\n",
      "Epoch 86/100\n",
      "11/11 [==============================] - 3s 318ms/step - loss: 5.1751e-04 - val_loss: 3.6933e-04\n",
      "Epoch 87/100\n",
      "11/11 [==============================] - 3s 317ms/step - loss: 7.0149e-04 - val_loss: 4.2457e-04\n",
      "Epoch 88/100\n",
      "11/11 [==============================] - 4s 325ms/step - loss: 4.9245e-04 - val_loss: 3.4791e-04\n",
      "Epoch 89/100\n",
      "11/11 [==============================] - 3s 320ms/step - loss: 4.6383e-04 - val_loss: 3.1599e-04\n",
      "Epoch 90/100\n",
      "11/11 [==============================] - 3s 320ms/step - loss: 4.6096e-04 - val_loss: 3.1016e-04\n",
      "Epoch 91/100\n",
      "11/11 [==============================] - 3s 319ms/step - loss: 4.6739e-04 - val_loss: 3.3106e-04\n",
      "Epoch 92/100\n",
      "11/11 [==============================] - 3s 305ms/step - loss: 4.5439e-04 - val_loss: 3.0464e-04\n",
      "Epoch 93/100\n",
      "11/11 [==============================] - 3s 319ms/step - loss: 4.3908e-04 - val_loss: 3.1729e-04\n",
      "Epoch 94/100\n",
      "11/11 [==============================] - 3s 315ms/step - loss: 4.3003e-04 - val_loss: 2.9608e-04\n",
      "Epoch 95/100\n",
      "11/11 [==============================] - 3s 319ms/step - loss: 4.5117e-04 - val_loss: 3.3183e-04\n",
      "Epoch 96/100\n",
      "11/11 [==============================] - 3s 319ms/step - loss: 4.4630e-04 - val_loss: 2.9371e-04\n",
      "Epoch 97/100\n",
      "11/11 [==============================] - 3s 317ms/step - loss: 4.5388e-04 - val_loss: 3.3516e-04\n",
      "Epoch 98/100\n",
      "11/11 [==============================] - 4s 328ms/step - loss: 4.1089e-04 - val_loss: 3.2341e-04\n",
      "Epoch 99/100\n",
      "11/11 [==============================] - 3s 315ms/step - loss: 4.0372e-04 - val_loss: 3.8634e-04\n",
      "Epoch 100/100\n",
      "11/11 [==============================] - 3s 318ms/step - loss: 4.4126e-04 - val_loss: 2.8511e-04\n"
     ]
    },
    {
     "data": {
      "text/plain": [
       "<keras.callbacks.History at 0x2510320ed30>"
      ]
     },
     "execution_count": 27,
     "metadata": {},
     "output_type": "execute_result"
    }
   ],
   "source": [
    "model.fit(X_train,y_train,validation_data=(X_test,ytest),epochs=100,batch_size=64,verbose=1)"
   ]
  },
  {
   "cell_type": "code",
   "execution_count": 28,
   "id": "837a61bb",
   "metadata": {},
   "outputs": [
    {
     "name": "stdout",
     "output_type": "stream",
     "text": [
      "22/22 [==============================] - 4s 67ms/step\n",
      "11/11 [==============================] - 1s 67ms/step\n"
     ]
    }
   ],
   "source": [
    "#Lets Do the prediction and check Performance Metrics\n",
    "train_predict=model.predict(X_train)\n",
    "test_predict=model.predict(X_test)"
   ]
  },
  {
   "cell_type": "code",
   "execution_count": 29,
   "id": "d60b00ea",
   "metadata": {},
   "outputs": [],
   "source": [
    "#Transform back to original form\n",
    "train_predict=scaler.inverse_transform(train_predict)\n",
    "test_predict=scaler.inverse_transform(test_predict)"
   ]
  },
  {
   "cell_type": "code",
   "execution_count": 30,
   "id": "8a80b8f8",
   "metadata": {},
   "outputs": [
    {
     "data": {
      "text/plain": [
       "179.71838140955157"
      ]
     },
     "execution_count": 30,
     "metadata": {},
     "output_type": "execute_result"
    }
   ],
   "source": [
    "# Calculate RMSE performance metrics\n",
    "import math\n",
    "from sklearn.metrics import mean_squared_error\n",
    "math.sqrt(mean_squared_error(y_train,train_predict))"
   ]
  },
  {
   "cell_type": "code",
   "execution_count": 31,
   "id": "bcb63ac9",
   "metadata": {},
   "outputs": [
    {
     "data": {
      "text/plain": [
       "155.0021273243127"
      ]
     },
     "execution_count": 31,
     "metadata": {},
     "output_type": "execute_result"
    }
   ],
   "source": [
    "#Test Data RMSE\n",
    "math.sqrt(mean_squared_error(ytest,test_predict))"
   ]
  },
  {
   "cell_type": "code",
   "execution_count": 32,
   "id": "6984f331",
   "metadata": {},
   "outputs": [
    {
     "data": {
      "image/png": "[encoded data removed]",
      "text/plain": [
       "<Figure size 1080x432 with 1 Axes>"
      ]
     },
     "metadata": {
      "needs_background": "light"
     },
     "output_type": "display_data"
    }
   ],
   "source": [
    "#Plotting Data\n",
    "# shift train predictions for plotting\n",
    "look_back=100\n",
    "trainPredictPlot = numpy.empty_like(df1)\n",
    "trainPredictPlot[:, :] = np.nan\n",
    "trainPredictPlot[look_back:len(train_predict)+look_back, :] = train_predict\n",
    "# shift test predictions for plotting\n",
    "testPredictPlot = numpy.empty_like(df1)\n",
    "testPredictPlot[:, :] = numpy.nan\n",
    "testPredictPlot[len(train_predict)+(look_back*2)+1:len(df1)-1, :] = test_predict\n",
    "# plot baseline and predictions\n",
    "plt.figure(figsize=(15,6))\n",
    "plt.plot(scaler.inverse_transform(df1), '-b', label='Train Data')\n",
    "plt.plot(trainPredictPlot,'--r', label='Train Predict',linewidth=2.0)\n",
    "plt.plot(testPredictPlot,'g', label='Test Predict', linewidth=2.0)\n",
    "leg = plt.legend();\n",
    "plt.show()"
   ]
  },
  {
   "cell_type": "code",
   "execution_count": null,
   "id": "1b7752cb",
   "metadata": {},
   "outputs": [],
   "source": []
  }
 ],
 "metadata": {
  "kernelspec": {
   "display_name": "Python 3 (ipykernel)",
   "language": "python",
   "name": "python3"
  },
  "language_info": {
   "codemirror_mode": {
    "name": "ipython",
    "version": 3
   },
   "file_extension": ".py",
   "mimetype": "text/x-python",
   "name": "python",
   "nbconvert_exporter": "python",
   "pygments_lexer": "ipython3",
   "version": "3.9.12"
  }
 },
 "nbformat": 4,
 "nbformat_minor": 5
}
